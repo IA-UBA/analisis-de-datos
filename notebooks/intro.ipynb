{
 "cells": [
  {
   "cell_type": "code",
   "execution_count": 6,
   "metadata": {},
   "outputs": [],
   "source": [
    "import pandas as pd"
   ]
  },
  {
   "cell_type": "code",
   "execution_count": 12,
   "metadata": {},
   "outputs": [],
   "source": [
    "feb_df = pd.read_parquet('../data/yellow_tripdata_2020-02.parquet')\n",
    "mar_df = pd.read_parquet('../data/yellow_tripdata_2020-03.parquet')\n"
   ]
  },
  {
   "cell_type": "code",
   "execution_count": null,
   "metadata": {},
   "outputs": [],
   "source": [
    "'''\n",
    "- VendorID: taxi provider\n",
    "\n",
    "- tpep_pickup_datetime: pick up time\n",
    "\n",
    "- tpep_dropoff_datetime: drop off time\n",
    "\n",
    "- passenger_count: number of passengers\n",
    "\n",
    "- trip_distance: in miles\n",
    "\n",
    "- RatecodeID: category of rate price\n",
    "\n",
    "- store_and_fwd_flag: This flag indicates whether the trip record was held in vehicle\n",
    "memory before sending to the vendor, aka “store and forward,”\n",
    "because the vehicle did not have a connection to the server\n",
    "\n",
    "- PULocationID: pick up zone\n",
    "\n",
    "- DOLocationID: Drop Off zone\n",
    "\n",
    "- payment_type: categorical type\n",
    "\n",
    "- fare_amount: The time-and-distance fare calculated by the meter\n",
    "\n",
    "- extra: Miscellaneous extras and surcharges. Currently, this only includes\n",
    "the $0.50 and $1 rush hour and overnight charges\n",
    "\n",
    "- mta_tax: $0.50 MTA tax that is automatically triggered based on the metered\n",
    "rate in use\n",
    "\n",
    "- Improvement_surcharge: $0.30 improvement surcharge assessed trips at the flag drop. The\n",
    "improvement surcharge began being levied in 2015\n",
    "\n",
    "- Tip_amount: Tip amount – This field is automatically populated for credit card\n",
    "tips. Cash tips are not included.\n",
    "\n",
    "- Tolls_amount: Total amount of all tolls paid in trip. \n",
    "\n",
    "- Total_amount: total price\n",
    "\n",
    "- Congestion_Surcharge: Total amount collected in trip for NYS congestion surcharge\n",
    "\n",
    "- airport_fee: $1.25 for pick up only at LaGuardia and John F. Kennedy Airports\n",
    "\n",
    "'''"
   ]
  },
  {
   "attachments": {},
   "cell_type": "markdown",
   "metadata": {},
   "source": [
    "Pregunta a responder con el dataset: \n",
    "\n",
    "- Impacto de la llegada del covid en el uso de Yellow Taxi en NYC: \n",
    " - ¿Existe una manera de caracterizar los lugares más recurrentes para inicio/fin de viaje?\n",
    " - ¿Cómo son los viajes típicamente en distancia y tiempo?\n",
    "\n",
    "Optional: \n",
    " - ¿Podremos segmentar los viajes de alguna manera? (clusterización)\n",
    " - ¿Se modifican el Congestion_Surcharge y airport fee? \n",
    "\n",
    "Consulta: \n",
    "\n",
    "- Deberiamos comparar marzo 2020 con Febrero 2020 o Marzo 2020 con Marzo 2019? Esto seria para evitar algun tipo de estacionalidad en los datos. \n",
    "\n",
    "- "
   ]
  },
  {
   "cell_type": "code",
   "execution_count": 15,
   "metadata": {},
   "outputs": [
    {
     "data": {
      "text/plain": [
       "265"
      ]
     },
     "execution_count": 15,
     "metadata": {},
     "output_type": "execute_result"
    }
   ],
   "source": [
    "mar_df['DOLocationID'].max()"
   ]
  },
  {
   "cell_type": "code",
   "execution_count": 7,
   "metadata": {},
   "outputs": [
    {
     "data": {
      "text/html": [
       "<div>\n",
       "<style scoped>\n",
       "    .dataframe tbody tr th:only-of-type {\n",
       "        vertical-align: middle;\n",
       "    }\n",
       "\n",
       "    .dataframe tbody tr th {\n",
       "        vertical-align: top;\n",
       "    }\n",
       "\n",
       "    .dataframe thead th {\n",
       "        text-align: right;\n",
       "    }\n",
       "</style>\n",
       "<table border=\"1\" class=\"dataframe\">\n",
       "  <thead>\n",
       "    <tr style=\"text-align: right;\">\n",
       "      <th></th>\n",
       "      <th>VendorID</th>\n",
       "      <th>tpep_pickup_datetime</th>\n",
       "      <th>tpep_dropoff_datetime</th>\n",
       "      <th>passenger_count</th>\n",
       "      <th>trip_distance</th>\n",
       "      <th>RatecodeID</th>\n",
       "      <th>store_and_fwd_flag</th>\n",
       "      <th>PULocationID</th>\n",
       "      <th>DOLocationID</th>\n",
       "      <th>payment_type</th>\n",
       "      <th>fare_amount</th>\n",
       "      <th>extra</th>\n",
       "      <th>mta_tax</th>\n",
       "      <th>tip_amount</th>\n",
       "      <th>tolls_amount</th>\n",
       "      <th>improvement_surcharge</th>\n",
       "      <th>total_amount</th>\n",
       "      <th>congestion_surcharge</th>\n",
       "      <th>airport_fee</th>\n",
       "    </tr>\n",
       "  </thead>\n",
       "  <tbody>\n",
       "    <tr>\n",
       "      <th>0</th>\n",
       "      <td>1</td>\n",
       "      <td>2020-02-01 00:17:35</td>\n",
       "      <td>2020-02-01 00:30:32</td>\n",
       "      <td>1.0</td>\n",
       "      <td>2.60</td>\n",
       "      <td>1.0</td>\n",
       "      <td>N</td>\n",
       "      <td>145</td>\n",
       "      <td>7</td>\n",
       "      <td>1</td>\n",
       "      <td>11.0</td>\n",
       "      <td>0.5</td>\n",
       "      <td>0.5</td>\n",
       "      <td>2.45</td>\n",
       "      <td>0.0</td>\n",
       "      <td>0.3</td>\n",
       "      <td>14.75</td>\n",
       "      <td>0.0</td>\n",
       "      <td>None</td>\n",
       "    </tr>\n",
       "    <tr>\n",
       "      <th>1</th>\n",
       "      <td>1</td>\n",
       "      <td>2020-02-01 00:32:47</td>\n",
       "      <td>2020-02-01 01:05:36</td>\n",
       "      <td>1.0</td>\n",
       "      <td>4.80</td>\n",
       "      <td>1.0</td>\n",
       "      <td>N</td>\n",
       "      <td>45</td>\n",
       "      <td>61</td>\n",
       "      <td>1</td>\n",
       "      <td>21.5</td>\n",
       "      <td>3.0</td>\n",
       "      <td>0.5</td>\n",
       "      <td>6.30</td>\n",
       "      <td>0.0</td>\n",
       "      <td>0.3</td>\n",
       "      <td>31.60</td>\n",
       "      <td>2.5</td>\n",
       "      <td>None</td>\n",
       "    </tr>\n",
       "    <tr>\n",
       "      <th>2</th>\n",
       "      <td>1</td>\n",
       "      <td>2020-02-01 00:31:44</td>\n",
       "      <td>2020-02-01 00:43:28</td>\n",
       "      <td>1.0</td>\n",
       "      <td>3.20</td>\n",
       "      <td>1.0</td>\n",
       "      <td>N</td>\n",
       "      <td>186</td>\n",
       "      <td>140</td>\n",
       "      <td>1</td>\n",
       "      <td>11.0</td>\n",
       "      <td>3.0</td>\n",
       "      <td>0.5</td>\n",
       "      <td>1.00</td>\n",
       "      <td>0.0</td>\n",
       "      <td>0.3</td>\n",
       "      <td>15.80</td>\n",
       "      <td>2.5</td>\n",
       "      <td>None</td>\n",
       "    </tr>\n",
       "    <tr>\n",
       "      <th>3</th>\n",
       "      <td>2</td>\n",
       "      <td>2020-02-01 00:07:35</td>\n",
       "      <td>2020-02-01 00:31:39</td>\n",
       "      <td>1.0</td>\n",
       "      <td>4.38</td>\n",
       "      <td>1.0</td>\n",
       "      <td>N</td>\n",
       "      <td>144</td>\n",
       "      <td>140</td>\n",
       "      <td>1</td>\n",
       "      <td>18.0</td>\n",
       "      <td>0.5</td>\n",
       "      <td>0.5</td>\n",
       "      <td>3.00</td>\n",
       "      <td>0.0</td>\n",
       "      <td>0.3</td>\n",
       "      <td>24.80</td>\n",
       "      <td>2.5</td>\n",
       "      <td>None</td>\n",
       "    </tr>\n",
       "    <tr>\n",
       "      <th>4</th>\n",
       "      <td>2</td>\n",
       "      <td>2020-02-01 00:51:43</td>\n",
       "      <td>2020-02-01 01:01:29</td>\n",
       "      <td>1.0</td>\n",
       "      <td>2.28</td>\n",
       "      <td>1.0</td>\n",
       "      <td>N</td>\n",
       "      <td>238</td>\n",
       "      <td>152</td>\n",
       "      <td>2</td>\n",
       "      <td>9.5</td>\n",
       "      <td>0.5</td>\n",
       "      <td>0.5</td>\n",
       "      <td>0.00</td>\n",
       "      <td>0.0</td>\n",
       "      <td>0.3</td>\n",
       "      <td>10.80</td>\n",
       "      <td>0.0</td>\n",
       "      <td>None</td>\n",
       "    </tr>\n",
       "  </tbody>\n",
       "</table>\n",
       "</div>"
      ],
      "text/plain": [
       "   VendorID tpep_pickup_datetime tpep_dropoff_datetime  passenger_count  \\\n",
       "0         1  2020-02-01 00:17:35   2020-02-01 00:30:32              1.0   \n",
       "1         1  2020-02-01 00:32:47   2020-02-01 01:05:36              1.0   \n",
       "2         1  2020-02-01 00:31:44   2020-02-01 00:43:28              1.0   \n",
       "3         2  2020-02-01 00:07:35   2020-02-01 00:31:39              1.0   \n",
       "4         2  2020-02-01 00:51:43   2020-02-01 01:01:29              1.0   \n",
       "\n",
       "   trip_distance  RatecodeID store_and_fwd_flag  PULocationID  DOLocationID  \\\n",
       "0           2.60         1.0                  N           145             7   \n",
       "1           4.80         1.0                  N            45            61   \n",
       "2           3.20         1.0                  N           186           140   \n",
       "3           4.38         1.0                  N           144           140   \n",
       "4           2.28         1.0                  N           238           152   \n",
       "\n",
       "   payment_type  fare_amount  extra  mta_tax  tip_amount  tolls_amount  \\\n",
       "0             1         11.0    0.5      0.5        2.45           0.0   \n",
       "1             1         21.5    3.0      0.5        6.30           0.0   \n",
       "2             1         11.0    3.0      0.5        1.00           0.0   \n",
       "3             1         18.0    0.5      0.5        3.00           0.0   \n",
       "4             2          9.5    0.5      0.5        0.00           0.0   \n",
       "\n",
       "   improvement_surcharge  total_amount  congestion_surcharge airport_fee  \n",
       "0                    0.3         14.75                   0.0        None  \n",
       "1                    0.3         31.60                   2.5        None  \n",
       "2                    0.3         15.80                   2.5        None  \n",
       "3                    0.3         24.80                   2.5        None  \n",
       "4                    0.3         10.80                   0.0        None  "
      ]
     },
     "execution_count": 7,
     "metadata": {},
     "output_type": "execute_result"
    }
   ],
   "source": [
    "feb_df.head()"
   ]
  },
  {
   "cell_type": "markdown",
   "metadata": {},
   "source": []
  },
  {
   "cell_type": "code",
   "execution_count": null,
   "metadata": {},
   "outputs": [],
   "source": []
  },
  {
   "cell_type": "code",
   "execution_count": 9,
   "metadata": {},
   "outputs": [
    {
     "data": {
      "text/plain": [
       "(6299367, 19)"
      ]
     },
     "execution_count": 9,
     "metadata": {},
     "output_type": "execute_result"
    }
   ],
   "source": [
    "feb_df.shape"
   ]
  },
  {
   "cell_type": "code",
   "execution_count": 11,
   "metadata": {},
   "outputs": [
    {
     "name": "stdout",
     "output_type": "stream",
     "text": [
      "<class 'pandas.core.frame.DataFrame'>\n",
      "RangeIndex: 6299367 entries, 0 to 6299366\n",
      "Data columns (total 19 columns):\n",
      " #   Column                 Dtype         \n",
      "---  ------                 -----         \n",
      " 0   VendorID               int64         \n",
      " 1   tpep_pickup_datetime   datetime64[us]\n",
      " 2   tpep_dropoff_datetime  datetime64[us]\n",
      " 3   passenger_count        float64       \n",
      " 4   trip_distance          float64       \n",
      " 5   RatecodeID             float64       \n",
      " 6   store_and_fwd_flag     object        \n",
      " 7   PULocationID           int64         \n",
      " 8   DOLocationID           int64         \n",
      " 9   payment_type           int64         \n",
      " 10  fare_amount            float64       \n",
      " 11  extra                  float64       \n",
      " 12  mta_tax                float64       \n",
      " 13  tip_amount             float64       \n",
      " 14  tolls_amount           float64       \n",
      " 15  improvement_surcharge  float64       \n",
      " 16  total_amount           float64       \n",
      " 17  congestion_surcharge   float64       \n",
      " 18  airport_fee            object        \n",
      "dtypes: datetime64[us](2), float64(11), int64(4), object(2)\n",
      "memory usage: 913.1+ MB\n"
     ]
    }
   ],
   "source": [
    "feb_df.info()"
   ]
  },
  {
   "cell_type": "code",
   "execution_count": 13,
   "metadata": {},
   "outputs": [
    {
     "name": "stdout",
     "output_type": "stream",
     "text": [
      "<class 'pandas.core.frame.DataFrame'>\n",
      "RangeIndex: 3007687 entries, 0 to 3007686\n",
      "Data columns (total 19 columns):\n",
      " #   Column                 Dtype         \n",
      "---  ------                 -----         \n",
      " 0   VendorID               int64         \n",
      " 1   tpep_pickup_datetime   datetime64[us]\n",
      " 2   tpep_dropoff_datetime  datetime64[us]\n",
      " 3   passenger_count        float64       \n",
      " 4   trip_distance          float64       \n",
      " 5   RatecodeID             float64       \n",
      " 6   store_and_fwd_flag     object        \n",
      " 7   PULocationID           int64         \n",
      " 8   DOLocationID           int64         \n",
      " 9   payment_type           int64         \n",
      " 10  fare_amount            float64       \n",
      " 11  extra                  float64       \n",
      " 12  mta_tax                float64       \n",
      " 13  tip_amount             float64       \n",
      " 14  tolls_amount           float64       \n",
      " 15  improvement_surcharge  float64       \n",
      " 16  total_amount           float64       \n",
      " 17  congestion_surcharge   float64       \n",
      " 18  airport_fee            object        \n",
      "dtypes: datetime64[us](2), float64(11), int64(4), object(2)\n",
      "memory usage: 436.0+ MB\n"
     ]
    }
   ],
   "source": [
    "mar_df.info()"
   ]
  }
 ],
 "metadata": {
  "kernelspec": {
   "display_name": ".venv",
   "language": "python",
   "name": "python3"
  },
  "language_info": {
   "codemirror_mode": {
    "name": "ipython",
    "version": 3
   },
   "file_extension": ".py",
   "mimetype": "text/x-python",
   "name": "python",
   "nbconvert_exporter": "python",
   "pygments_lexer": "ipython3",
   "version": "3.10.6"
  },
  "orig_nbformat": 4
 },
 "nbformat": 4,
 "nbformat_minor": 2
}
