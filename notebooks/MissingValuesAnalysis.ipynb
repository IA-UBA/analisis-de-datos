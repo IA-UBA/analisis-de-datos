{
 "cells": [
  {
   "cell_type": "markdown",
   "metadata": {},
   "source": [
    "# Missing data analysis"
   ]
  },
  {
   "cell_type": "code",
   "execution_count": 1,
   "metadata": {},
   "outputs": [],
   "source": [
    "import numpy as np\n",
    "import pandas as pd\n",
    "import seaborn as sns\n",
    "import matplotlib.pyplot as plt"
   ]
  },
  {
   "cell_type": "code",
   "execution_count": 2,
   "metadata": {},
   "outputs": [],
   "source": [
    "DATASET_PATH = '../data/yellow_tripdata_2020-02.parquet'"
   ]
  },
  {
   "cell_type": "code",
   "execution_count": 3,
   "metadata": {},
   "outputs": [],
   "source": [
    "raw_df = pd.read_parquet(DATASET_PATH)"
   ]
  },
  {
   "cell_type": "code",
   "execution_count": 4,
   "metadata": {},
   "outputs": [
    {
     "data": {
      "text/plain": [
       "VendorID                       0\n",
       "tpep_pickup_datetime           0\n",
       "tpep_dropoff_datetime          0\n",
       "passenger_count            48834\n",
       "trip_distance                  0\n",
       "RatecodeID                 48834\n",
       "store_and_fwd_flag         48834\n",
       "PULocationID                   0\n",
       "DOLocationID                   0\n",
       "payment_type                   0\n",
       "fare_amount                    0\n",
       "extra                          0\n",
       "mta_tax                        0\n",
       "tip_amount                     0\n",
       "tolls_amount                   0\n",
       "improvement_surcharge          0\n",
       "total_amount                   0\n",
       "congestion_surcharge       48834\n",
       "airport_fee              6299367\n",
       "dtype: int64"
      ]
     },
     "execution_count": 4,
     "metadata": {},
     "output_type": "execute_result"
    }
   ],
   "source": [
    "## Vemos cuantos valores nulos hay\n",
    "raw_df.isnull().sum()"
   ]
  },
  {
   "cell_type": "code",
   "execution_count": 5,
   "metadata": {},
   "outputs": [
    {
     "data": {
      "text/plain": [
       "VendorID                   0.0%\n",
       "tpep_pickup_datetime       0.0%\n",
       "tpep_dropoff_datetime      0.0%\n",
       "passenger_count           0.78%\n",
       "trip_distance              0.0%\n",
       "RatecodeID                0.78%\n",
       "store_and_fwd_flag        0.78%\n",
       "PULocationID               0.0%\n",
       "DOLocationID               0.0%\n",
       "payment_type               0.0%\n",
       "fare_amount                0.0%\n",
       "extra                      0.0%\n",
       "mta_tax                    0.0%\n",
       "tip_amount                 0.0%\n",
       "tolls_amount               0.0%\n",
       "improvement_surcharge      0.0%\n",
       "total_amount               0.0%\n",
       "congestion_surcharge      0.78%\n",
       "airport_fee              100.0%\n",
       "dtype: object"
      ]
     },
     "execution_count": 5,
     "metadata": {},
     "output_type": "execute_result"
    }
   ],
   "source": [
    "## Calculamos el porcentaje de valores nulos del dataset\n",
    "null_percentage = ((raw_df.isnull().sum() * 100) / len(raw_df)).round(2)\n",
    "null_percentage.astype(str) + '%'"
   ]
  }
 ],
 "metadata": {
  "kernelspec": {
   "display_name": "env",
   "language": "python",
   "name": "python3"
  },
  "language_info": {
   "codemirror_mode": {
    "name": "ipython",
    "version": 3
   },
   "file_extension": ".py",
   "mimetype": "text/x-python",
   "name": "python",
   "nbconvert_exporter": "python",
   "pygments_lexer": "ipython3",
   "version": "3.11.5"
  }
 },
 "nbformat": 4,
 "nbformat_minor": 2
}
